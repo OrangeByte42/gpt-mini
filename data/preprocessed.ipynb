{
 "cells": [
  {
   "cell_type": "code",
   "execution_count": 4,
   "id": "b6b15712",
   "metadata": {},
   "outputs": [],
   "source": [
    "import os\n",
    "from typing import Any\n",
    "\n",
    "from datasets import load_dataset"
   ]
  },
  {
   "cell_type": "markdown",
   "id": "4ec1cfc5",
   "metadata": {},
   "source": [
    "# Basic Configuration"
   ]
  },
  {
   "cell_type": "code",
   "execution_count": 3,
   "id": "a1d72c5a",
   "metadata": {},
   "outputs": [],
   "source": [
    "# Necessary configuration variables\n",
    "original_datasets_dir: str = os.path.join(\".\", \"original_datasets\")\n",
    "preprocessed_datasets_dir: str = os.path.join(\".\", \"preprocessed_datasets\")"
   ]
  },
  {
   "cell_type": "markdown",
   "id": "1b75364c",
   "metadata": {},
   "source": [
    "# Load original datasets"
   ]
  },
  {
   "cell_type": "code",
   "execution_count": 6,
   "id": "345b116f",
   "metadata": {},
   "outputs": [
    {
     "name": "stderr",
     "output_type": "stream",
     "text": [
      "Using the latest cached version of the dataset since izumi-lab/wikipedia-en-20230720 couldn't be found on the Hugging Face Hub\n",
      "Found the latest cached dataset configuration 'default' at original_datasets/wikipedia-en-20230720/izumi-lab___wikipedia-en-20230720/default/0.0.0/bd56410654f200187f8375fa2a4aabea5984f7f3 (last modified on Wed Aug 13 04:21:59 2025).\n",
      "Using the latest cached version of the dataset since common-pile/arxiv_papers couldn't be found on the Hugging Face Hub\n",
      "Found the latest cached dataset configuration 'default' at original_datasets/arxiv_papers/common-pile___arxiv_papers/default/0.0.0/963fe980c55b353980653f1a27c1dc0c8a2d7058 (last modified on Wed Aug 13 04:44:45 2025).\n",
      "Using the latest cached version of the dataset since erikanesse/great_books couldn't be found on the Hugging Face Hub\n",
      "Found the latest cached dataset configuration 'default' at original_datasets/great_books/erikanesse___great_books/default/0.0.0/20aac0fbc008c17c735fe27c2eb410edbdc84381 (last modified on Wed Aug 13 04:45:20 2025).\n",
      "Using the latest cached version of the dataset since izumi-lab/open-text-books couldn't be found on the Hugging Face Hub\n",
      "Found the latest cached dataset configuration 'default' at original_datasets/open_text_books/izumi-lab___open-text-books/default/0.0.0/1245fefd628d37483366b8e707fdc5650fd3c48e (last modified on Wed Aug 13 04:45:39 2025).\n"
     ]
    }
   ],
   "source": [
    "# Download datasets from huggingface\n",
    "wikipedia_en: Any = load_dataset(\"izumi-lab/wikipedia-en-20230720\", cache_dir=os.path.join(original_datasets_dir, \"wikipedia-en-20230720\"))\n",
    "arxiv_papers: Any = load_dataset(\"common-pile/arxiv_papers\", cache_dir=os.path.join(original_datasets_dir, \"arxiv_papers\"))\n",
    "great_books: Any = load_dataset(\"erikanesse/great_books\", cache_dir=os.path.join(original_datasets_dir, \"great_books\"))\n",
    "open_text_books: Any = load_dataset(\"izumi-lab/open-text-books\", cache_dir=os.path.join(original_datasets_dir, \"open_text_books\"))"
   ]
  },
  {
   "cell_type": "code",
   "execution_count": 7,
   "id": "5ffe49d1",
   "metadata": {},
   "outputs": [
    {
     "name": "stdout",
     "output_type": "stream",
     "text": [
      "<class 'datasets.dataset_dict.DatasetDict'> <class 'datasets.dataset_dict.DatasetDict'> <class 'datasets.dataset_dict.DatasetDict'> <class 'datasets.dataset_dict.DatasetDict'>\n",
      "dict_keys(['train']) dict_keys(['train']) dict_keys(['train']) dict_keys(['train'])\n",
      "<class 'datasets.arrow_dataset.Dataset'> <class 'datasets.arrow_dataset.Dataset'> <class 'datasets.arrow_dataset.Dataset'> <class 'datasets.arrow_dataset.Dataset'>\n",
      "<class 'dict'> <class 'dict'> <class 'dict'> <class 'dict'>\n"
     ]
    }
   ],
   "source": [
    "# Show info\n",
    "print(type(wikipedia_en), type(arxiv_papers), type(great_books), type(open_text_books))\n",
    "print(wikipedia_en.keys(), arxiv_papers.keys(), great_books.keys(), open_text_books.keys())\n",
    "print(type(wikipedia_en[\"train\"]), type(arxiv_papers[\"train\"]), type(great_books[\"train\"]), type(open_text_books[\"train\"]))\n",
    "print(type(wikipedia_en[\"train\"][0]), type(arxiv_papers[\"train\"][0]), type(great_books[\"train\"][0]), type(open_text_books[\"train\"][0]))"
   ]
  },
  {
   "cell_type": "markdown",
   "id": "f37ac5cd",
   "metadata": {},
   "source": [
    "# Pre-processed original datasets"
   ]
  },
  {
   "cell_type": "markdown",
   "id": "5295b343",
   "metadata": {},
   "source": [
    "## pre-process wikipedia-en"
   ]
  },
  {
   "cell_type": "code",
   "execution_count": 9,
   "id": "7e965e3b",
   "metadata": {},
   "outputs": [
    {
     "name": "stdout",
     "output_type": "stream",
     "text": [
      "<class 'datasets.dataset_dict.DatasetDict'> dict_keys(['train'])\n",
      "<class 'datasets.arrow_dataset.Dataset'> 6650632 <class 'dict'>\n",
      "dict_keys(['curid', 'title', 'text'])\n"
     ]
    }
   ],
   "source": [
    "print(type(wikipedia_en), wikipedia_en.keys())\n",
    "print(type(wikipedia_en[\"train\"]), len(wikipedia_en[\"train\"]), type(wikipedia_en[\"train\"][0]))\n",
    "print(wikipedia_en[\"train\"][0].keys())"
   ]
  },
  {
   "cell_type": "code",
   "execution_count": null,
   "id": "cdf4dacc",
   "metadata": {},
   "outputs": [],
   "source": [
    "..."
   ]
  }
 ],
 "metadata": {
  "kernelspec": {
   "display_name": ".venv",
   "language": "python",
   "name": "python3"
  },
  "language_info": {
   "codemirror_mode": {
    "name": "ipython",
    "version": 3
   },
   "file_extension": ".py",
   "mimetype": "text/x-python",
   "name": "python",
   "nbconvert_exporter": "python",
   "pygments_lexer": "ipython3",
   "version": "3.9.23"
  }
 },
 "nbformat": 4,
 "nbformat_minor": 5
}
